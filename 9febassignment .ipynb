{
 "cells": [
  {
   "cell_type": "code",
   "execution_count": 26,
   "id": "85e70122-1b38-405f-9967-67d450105505",
   "metadata": {},
   "outputs": [
    {
     "name": "stdout",
     "output_type": "stream",
     "text": [
      "alto    60    40\n"
     ]
    }
   ],
   "source": [
    "#ques1_Answer:\n",
    "class vehicle :\n",
    "    def __init__(self,name_of_vehicle,max_speed,average_of_vehicle):\n",
    "    \n",
    "        self.name_of_vehicle = name_of_vehicle\n",
    "        self.max_speed = max_speed\n",
    "        self.average_of_vehicle = average_of_vehicle\n",
    "        \n",
    "a =vehicle(\"alto\",60,40) \n",
    "print(a.name_of_vehicle, \"  \",a.max_speed,\"  \",a.average_of_vehicle)"
   ]
  },
  {
   "cell_type": "code",
   "execution_count": 35,
   "id": "17394926-2c59-4581-b15e-3c8b73f2ee64",
   "metadata": {},
   "outputs": [
    {
     "data": {
      "text/plain": [
       "'the seating capacity of a alto is 55 passengers'"
      ]
     },
     "execution_count": 35,
     "metadata": {},
     "output_type": "execute_result"
    }
   ],
   "source": [
    "#ques2_Answer:\n",
    "class vehicle :\n",
    "    def __init__(self,name_of_vehicle,max_speed,average_of_vehicle):\n",
    "    \n",
    "        self.name_of_vehicle = name_of_vehicle\n",
    "        self.max_speed = max_speed\n",
    "        self.average_of_vehicle = average_of_vehicle\n",
    "        \n",
    "\n",
    "class car(vehicle):\n",
    "    \n",
    "    def seating_capacity(self ,capacity = 55):\n",
    "        return f\"the seating capacity of a {self.name_of_vehicle} is {capacity} passengers\"\n",
    "\n",
    "car(\"alto\" , 60, 40 ).seating_capacity()    "
   ]
  },
  {
   "cell_type": "code",
   "execution_count": 36,
   "id": "c40ad171-092f-4294-a02a-7cd4d6c8d698",
   "metadata": {},
   "outputs": [],
   "source": [
    "#ques3_Answer :\n",
    "Inheritance is the mechanism to achieve the re-usability of code as one class(child class) can derive the properties of another class(parent class). It also provides transitivity ie.\n",
    "if class C inherits from P then all the sub-classes of C would also inherit from P.\n",
    " When a class is derived from more than one base class it is called multiple Inheritance. The derived class inherits all the features of the base case."
   ]
  },
  {
   "cell_type": "code",
   "execution_count": 47,
   "id": "58209fb3-ab95-4e7f-a687-59f3a3bf1886",
   "metadata": {},
   "outputs": [
    {
     "name": "stdout",
     "output_type": "stream",
     "text": [
      "this is start of my code\n",
      "this is mid of my code\n",
      "this is end of my code\n",
      "thank you\n"
     ]
    }
   ],
   "source": [
    "#answer3 example of multiple inheritence \n",
    "class class1:\n",
    "    def func(self):\n",
    "        print(\"this is start of my code\")\n",
    "    \n",
    "class class2(class1):\n",
    "    def func(self):\n",
    "        print(\"this is mid of my code\")\n",
    "        \n",
    "class class3(class1):\n",
    "    def func(self):\n",
    "        print(\"this is end of my code\")\n",
    "        \n",
    "class class4(class2,class3):\n",
    "    def func(self):\n",
    "        print(\"thank you\")\n",
    "\n",
    "obj = class1()\n",
    "obj.func()\n",
    "\n",
    "class2.func(obj)\n",
    "class3.func(obj)\n",
    "class4.func(obj)"
   ]
  },
  {
   "cell_type": "code",
   "execution_count": null,
   "id": "942c334d-8755-46e1-8a97-29ca40a90acd",
   "metadata": {},
   "outputs": [],
   "source": [
    "#ques4_Answer :\n",
    "In Python, getters and setters are not the same as those in other object-oriented programming languages. Basically, the main purpose of using getters and setters in object-oriented programs is to ensure data encapsulation.\n",
    "Private variables in python are not actually hidden fields like in other object oriented languages. Getters and Setters in python are often used when:\n",
    "1)We use getters & setters to add validation logic around getting and setting a value.\n",
    "2)To avoid direct access of a class field i.e. private variables cannot be accessed directly or modified by external user.\n"
   ]
  },
  {
   "cell_type": "code",
   "execution_count": 58,
   "id": "1b49c652-65a7-4e59-836b-ba78d9b5ef09",
   "metadata": {},
   "outputs": [
    {
     "name": "stdout",
     "output_type": "stream",
     "text": [
      "21\n"
     ]
    }
   ],
   "source": [
    "#example of question 4  use of getter and setter :\n",
    "\n",
    "class rohan_age:\n",
    "    def __init__(self, age = 0):\n",
    "         self._age = age\n",
    "      \n",
    "    # getter method\n",
    "    def get_age(self):\n",
    "        return self._age\n",
    "      \n",
    "    # setter method\n",
    "    def set_age(self, x):\n",
    "        self._age = x\n",
    "  \n",
    "rohan = rohan_age()\n",
    "  \n",
    "# setting the age using setter\n",
    "rohan.set_age(21)\n",
    "  \n",
    "# retrieving age using getter\n",
    "print(rohan.get_age())\n",
    "  "
   ]
  },
  {
   "cell_type": "code",
   "execution_count": null,
   "id": "974313b1-b8cc-44dd-8864-1560946c239e",
   "metadata": {},
   "outputs": [],
   "source": [
    "#ques5_Answer :\n",
    "Method overriding is an ability of any object-oriented programming language that allows a subclass or child class to provide a specific implementation of a method that is already provided by one of its super-classes or parent classes.\n",
    "When a method in a subclass has the same name, same parameters or signature and same return type(or sub-type) as a method in its super-class, then the method in the subclass is said to override the method in the super-class.\n",
    "\n",
    "The version of a method that is executed will be determined by the object that is used to invoke it. If an object of a parent class is used to invoke the method, then the version in the parent class will be executed,\n",
    "but if an object of the subclass is used to invoke the method, then the version in the child class will be executed.\n",
    "In other words, it is the type of the object being referred to (not the type of the reference variable) that determines which version of an overridden method will be executed.\n",
    "\n"
   ]
  },
  {
   "cell_type": "code",
   "execution_count": 64,
   "id": "8aa02868-23a0-4b86-bc5f-556ed35b0c8e",
   "metadata": {},
   "outputs": [
    {
     "ename": "NameError",
     "evalue": "name 'parent' is not defined",
     "output_type": "error",
     "traceback": [
      "\u001b[0;31m---------------------------------------------------------------------------\u001b[0m",
      "\u001b[0;31mNameError\u001b[0m                                 Traceback (most recent call last)",
      "Cell \u001b[0;32mIn [64], line 23\u001b[0m\n\u001b[1;32m     19\u001b[0m     \u001b[38;5;28;01mdef\u001b[39;00m \u001b[38;5;21mshow\u001b[39m(\u001b[38;5;28mself\u001b[39m):\n\u001b[1;32m     20\u001b[0m         \u001b[38;5;28mprint\u001b[39m(\u001b[38;5;28mself\u001b[39m\u001b[38;5;241m.\u001b[39mvalue)\n\u001b[0;32m---> 23\u001b[0m obj1 \u001b[38;5;241m=\u001b[39m \u001b[43mparent\u001b[49m()\n\u001b[1;32m     24\u001b[0m obj2 \u001b[38;5;241m=\u001b[39m child()\n\u001b[1;32m     26\u001b[0m obj1\u001b[38;5;241m.\u001b[39mshow()\n",
      "\u001b[0;31mNameError\u001b[0m: name 'parent' is not defined"
     ]
    }
   ],
   "source": [
    "# example of question 5 method overriding :\n",
    "\n",
    "class Parent():\n",
    "      \n",
    "    def __init__(self):\n",
    "        self.value = \"Inside Parent\"\n",
    "          \n",
    "    # Parent's show method\n",
    "    def show(self):\n",
    "        print(self.value)\n",
    "          \n",
    "# Defining child class\n",
    "class Child(Parent):\n",
    "      \n",
    "    def __init__(self):\n",
    "        self.value = \"Inside Child\"\n",
    "          \n",
    "    # Child's show method\n",
    "    def show(self):\n",
    "        print(self.value)\n",
    "        \n",
    "        \n",
    "obj1 = parent()\n",
    "obj2 = child()\n",
    "\n",
    "obj1.show()\n",
    "obj2.show()"
   ]
  },
  {
   "cell_type": "code",
   "execution_count": null,
   "id": "74ac0b40-6052-456c-87f5-c51a7aa00035",
   "metadata": {},
   "outputs": [],
   "source": []
  }
 ],
 "metadata": {
  "kernelspec": {
   "display_name": "Python 3 (ipykernel)",
   "language": "python",
   "name": "python3"
  },
  "language_info": {
   "codemirror_mode": {
    "name": "ipython",
    "version": 3
   },
   "file_extension": ".py",
   "mimetype": "text/x-python",
   "name": "python",
   "nbconvert_exporter": "python",
   "pygments_lexer": "ipython3",
   "version": "3.10.6"
  }
 },
 "nbformat": 4,
 "nbformat_minor": 5
}
